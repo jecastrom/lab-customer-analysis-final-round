{
 "cells": [
  {
   "cell_type": "markdown",
   "id": "0c3c2dae",
   "metadata": {},
   "source": [
    "#### Jorge Castro DAPT BER\n",
    "\n",
    "\n",
    "\n",
    "\n",
    "\n",
    "# Lab (Customer Analysis Final Round )\n",
    "    \n",
    "\n",
    "\n",
    "\n",
    "Jump to:\n",
    "* <a href=\"#01---Problem-(case-study)\">01 - Problem (case study)</a>\n",
    "    * <a href=\"#Data-Description\">Data Description</a>\n",
    "    * <a href=\"#Goal\">Goal</a>\n",
    "* <a href=\"#02---Getting-Data\">02 - Getting Data</a>\n",
    "    * <a href=\"#Read-the-.csv-file\">Read the .csv file</a>\n",
    "* <a href=\"#03---Cleaning/Wrangling/EDA\">03 - Cleaning/Wrangling/EDA</a>\n",
    "    * <a href=\"#Change-headers-names\">Change headers names</a>\n",
    "    * <a href=\"#Deal-with-NaN-values\">Deal with NaN values</a>\n",
    "    * <a href=\"#Categorical-Features\">Categorical Features</a>\n",
    "    * <a href=\"#Numerical-Features\">Numerical Features</a>\n",
    "    * <a href=\"#Exploration\">Exploration</a>\n",
    "* <a href=\"#04---Processing-Data\">04 - Processing Data</a>\n",
    "    * <a href=\"#Dealing-with-outliers\">Dealing with outliers</a>\n",
    "    * <a href=\"#Normalization\">Normalization</a>\n",
    "    * <a href=\"#Encoding-Categorical-Data\">Encoding Categorical Data</a>\n",
    "    * <a href=\"#Splitting-into-train-set-and-test-set\">Splitting into train set and test set</a>\n",
    "* <a href=\"#05---Modeling\">05 - Modeling</a>\n",
    "    * <a href=\"#Apply-model\">Apply model</a>\n",
    "* <a href=\"#06---Model-Validation\">06 - Model Validation</a>\n",
    "    * <a href=\"#R2\">R2</a>\n",
    "    * <a href=\"#MSE\">MSE</a>\n",
    "    * <a href=\"#RMSE\">RMSE</a>\n",
    "    * <a href=\"#MAE\">MAE</a>\n",
    "* <a href=\"#07---Reporting\">07 - Reporting</a>\n",
    "    * <a href=\"#Present-results\">Present results</a>\n",
    "    \n",
    "\n",
    "\n",
    "* <a href=\"#Jorge-Castro-DAPT-BER\">Back to Top</a>\n",
    "* <a href=\"#.\">Go down</a>\n",
    "\n",
    "* [Go bottom](#Go-bottom)\n",
    "\n",
    "\n"
   ]
  },
  {
   "cell_type": "raw",
   "id": "9bc72d27",
   "metadata": {},
   "source": [
    "\n",
    "# Hyperlink same notebook (HTML)\n",
    "\n",
    "import pyperclip as pc\n",
    "hyperlink_title = input('Enter hyperlink title:')\n",
    "dashed_title = hyperlink_title.replace(\" \", \"-\")\n",
    "link = ('* <a href=\"#{}\">{}</a>'.format(dashed_title, hyperlink_title))\n",
    "pc.copy(link)\n",
    "\n",
    "#input('Paste your Hyperlink on the markdown cell, then, press ENTER')\n",
    "# destination_title = ('### {}'.format(hyperlink_title))\n",
    "# pc.copy(destination_title)\n",
    "# print('Now, paste the destination title on the place of your preference!')"
   ]
  },
  {
   "cell_type": "code",
   "execution_count": 28,
   "id": "e24a524b",
   "metadata": {},
   "outputs": [],
   "source": [
    "import pandas as pd\n",
    "import numpy as np\n",
    "pd.set_option('display.max_columns', None)\n",
    "import warnings\n",
    "warnings.filterwarnings('ignore')\n",
    "import matplotlib.pyplot as plt\n",
    "import seaborn as sb\n",
    "from sklearn import linear_model\n",
    "from sklearn.metrics import mean_squared_error, r2_score\n",
    "import sweetviz as sv\n",
    "%matplotlib inline"
   ]
  },
  {
   "cell_type": "markdown",
   "id": "6bf5ead4",
   "metadata": {},
   "source": [
    "# 01 - Problem (case study)\n",
    "* <a href=\"#Jorge-Castro-DAPT-BER\">Back to Top</a>\n",
    "* <a href=\"#.\">Go down</a>"
   ]
  },
  {
   "cell_type": "markdown",
   "id": "b4525967",
   "metadata": {},
   "source": [
    "##### Data Description\n",
    "\n",
    "    \n"
   ]
  },
  {
   "cell_type": "markdown",
   "id": "5f88c122",
   "metadata": {},
   "source": [
    "Dataset from an insurance company"
   ]
  },
  {
   "cell_type": "code",
   "execution_count": null,
   "id": "d4bd08d8",
   "metadata": {},
   "outputs": [],
   "source": []
  },
  {
   "cell_type": "markdown",
   "id": "20ddc99f",
   "metadata": {},
   "source": [
    "##### Goal\n",
    "* <a href=\"#Jorge-Castro-DAPT-BER\">Back to Top</a>\n",
    "* <a href=\"#.\">Go down</a>"
   ]
  },
  {
   "cell_type": "markdown",
   "id": "365bb06e",
   "metadata": {},
   "source": [
    "To run predictive analytics to analyze the most profitable customers and how they interact."
   ]
  },
  {
   "cell_type": "code",
   "execution_count": null,
   "id": "73e6afff",
   "metadata": {},
   "outputs": [],
   "source": []
  },
  {
   "cell_type": "markdown",
   "id": "8ff96b82",
   "metadata": {},
   "source": [
    "# 02 - Getting Data\n",
    "##### Read the .csv file\n",
    "* <a href=\"#Jorge-Castro-DAPT-BER\">Back to Top</a>\n",
    "* <a href=\"#.\">Go down</a>\n"
   ]
  },
  {
   "cell_type": "code",
   "execution_count": 29,
   "id": "c072d3c7",
   "metadata": {},
   "outputs": [
    {
     "ename": "FileNotFoundError",
     "evalue": "[Errno 2] No such file or directory: 'marketing_customer_analysis.csv'",
     "output_type": "error",
     "traceback": [
      "\u001b[1;31m---------------------------------------------------------------------------\u001b[0m",
      "\u001b[1;31mFileNotFoundError\u001b[0m                         Traceback (most recent call last)",
      "\u001b[1;32m~\\AppData\\Local\\Temp/ipykernel_18080/3669709586.py\u001b[0m in \u001b[0;36m<module>\u001b[1;34m\u001b[0m\n\u001b[1;32m----> 1\u001b[1;33m \u001b[0mdf_d\u001b[0m \u001b[1;33m=\u001b[0m \u001b[0mpd\u001b[0m\u001b[1;33m.\u001b[0m\u001b[0mread_csv\u001b[0m\u001b[1;33m(\u001b[0m\u001b[1;34m'marketing_customer_analysis.csv'\u001b[0m\u001b[1;33m)\u001b[0m\u001b[1;33m\u001b[0m\u001b[1;33m\u001b[0m\u001b[0m\n\u001b[0m\u001b[0;32m      2\u001b[0m \u001b[1;31m# Showing dataframe shape\u001b[0m\u001b[1;33m\u001b[0m\u001b[1;33m\u001b[0m\u001b[1;33m\u001b[0m\u001b[0m\n\u001b[0;32m      3\u001b[0m \u001b[1;33m\u001b[0m\u001b[0m\n\u001b[0;32m      4\u001b[0m \u001b[0mdf_d\u001b[0m\u001b[1;33m.\u001b[0m\u001b[0mshape\u001b[0m\u001b[1;33m\u001b[0m\u001b[1;33m\u001b[0m\u001b[0m\n",
      "\u001b[1;32m~\\anaconda3\\lib\\site-packages\\pandas\\util\\_decorators.py\u001b[0m in \u001b[0;36mwrapper\u001b[1;34m(*args, **kwargs)\u001b[0m\n\u001b[0;32m    309\u001b[0m                     \u001b[0mstacklevel\u001b[0m\u001b[1;33m=\u001b[0m\u001b[0mstacklevel\u001b[0m\u001b[1;33m,\u001b[0m\u001b[1;33m\u001b[0m\u001b[1;33m\u001b[0m\u001b[0m\n\u001b[0;32m    310\u001b[0m                 )\n\u001b[1;32m--> 311\u001b[1;33m             \u001b[1;32mreturn\u001b[0m \u001b[0mfunc\u001b[0m\u001b[1;33m(\u001b[0m\u001b[1;33m*\u001b[0m\u001b[0margs\u001b[0m\u001b[1;33m,\u001b[0m \u001b[1;33m**\u001b[0m\u001b[0mkwargs\u001b[0m\u001b[1;33m)\u001b[0m\u001b[1;33m\u001b[0m\u001b[1;33m\u001b[0m\u001b[0m\n\u001b[0m\u001b[0;32m    312\u001b[0m \u001b[1;33m\u001b[0m\u001b[0m\n\u001b[0;32m    313\u001b[0m         \u001b[1;32mreturn\u001b[0m \u001b[0mwrapper\u001b[0m\u001b[1;33m\u001b[0m\u001b[1;33m\u001b[0m\u001b[0m\n",
      "\u001b[1;32m~\\anaconda3\\lib\\site-packages\\pandas\\io\\parsers\\readers.py\u001b[0m in \u001b[0;36mread_csv\u001b[1;34m(filepath_or_buffer, sep, delimiter, header, names, index_col, usecols, squeeze, prefix, mangle_dupe_cols, dtype, engine, converters, true_values, false_values, skipinitialspace, skiprows, skipfooter, nrows, na_values, keep_default_na, na_filter, verbose, skip_blank_lines, parse_dates, infer_datetime_format, keep_date_col, date_parser, dayfirst, cache_dates, iterator, chunksize, compression, thousands, decimal, lineterminator, quotechar, quoting, doublequote, escapechar, comment, encoding, encoding_errors, dialect, error_bad_lines, warn_bad_lines, on_bad_lines, delim_whitespace, low_memory, memory_map, float_precision, storage_options)\u001b[0m\n\u001b[0;32m    584\u001b[0m     \u001b[0mkwds\u001b[0m\u001b[1;33m.\u001b[0m\u001b[0mupdate\u001b[0m\u001b[1;33m(\u001b[0m\u001b[0mkwds_defaults\u001b[0m\u001b[1;33m)\u001b[0m\u001b[1;33m\u001b[0m\u001b[1;33m\u001b[0m\u001b[0m\n\u001b[0;32m    585\u001b[0m \u001b[1;33m\u001b[0m\u001b[0m\n\u001b[1;32m--> 586\u001b[1;33m     \u001b[1;32mreturn\u001b[0m \u001b[0m_read\u001b[0m\u001b[1;33m(\u001b[0m\u001b[0mfilepath_or_buffer\u001b[0m\u001b[1;33m,\u001b[0m \u001b[0mkwds\u001b[0m\u001b[1;33m)\u001b[0m\u001b[1;33m\u001b[0m\u001b[1;33m\u001b[0m\u001b[0m\n\u001b[0m\u001b[0;32m    587\u001b[0m \u001b[1;33m\u001b[0m\u001b[0m\n\u001b[0;32m    588\u001b[0m \u001b[1;33m\u001b[0m\u001b[0m\n",
      "\u001b[1;32m~\\anaconda3\\lib\\site-packages\\pandas\\io\\parsers\\readers.py\u001b[0m in \u001b[0;36m_read\u001b[1;34m(filepath_or_buffer, kwds)\u001b[0m\n\u001b[0;32m    480\u001b[0m \u001b[1;33m\u001b[0m\u001b[0m\n\u001b[0;32m    481\u001b[0m     \u001b[1;31m# Create the parser.\u001b[0m\u001b[1;33m\u001b[0m\u001b[1;33m\u001b[0m\u001b[1;33m\u001b[0m\u001b[0m\n\u001b[1;32m--> 482\u001b[1;33m     \u001b[0mparser\u001b[0m \u001b[1;33m=\u001b[0m \u001b[0mTextFileReader\u001b[0m\u001b[1;33m(\u001b[0m\u001b[0mfilepath_or_buffer\u001b[0m\u001b[1;33m,\u001b[0m \u001b[1;33m**\u001b[0m\u001b[0mkwds\u001b[0m\u001b[1;33m)\u001b[0m\u001b[1;33m\u001b[0m\u001b[1;33m\u001b[0m\u001b[0m\n\u001b[0m\u001b[0;32m    483\u001b[0m \u001b[1;33m\u001b[0m\u001b[0m\n\u001b[0;32m    484\u001b[0m     \u001b[1;32mif\u001b[0m \u001b[0mchunksize\u001b[0m \u001b[1;32mor\u001b[0m \u001b[0miterator\u001b[0m\u001b[1;33m:\u001b[0m\u001b[1;33m\u001b[0m\u001b[1;33m\u001b[0m\u001b[0m\n",
      "\u001b[1;32m~\\anaconda3\\lib\\site-packages\\pandas\\io\\parsers\\readers.py\u001b[0m in \u001b[0;36m__init__\u001b[1;34m(self, f, engine, **kwds)\u001b[0m\n\u001b[0;32m    809\u001b[0m             \u001b[0mself\u001b[0m\u001b[1;33m.\u001b[0m\u001b[0moptions\u001b[0m\u001b[1;33m[\u001b[0m\u001b[1;34m\"has_index_names\"\u001b[0m\u001b[1;33m]\u001b[0m \u001b[1;33m=\u001b[0m \u001b[0mkwds\u001b[0m\u001b[1;33m[\u001b[0m\u001b[1;34m\"has_index_names\"\u001b[0m\u001b[1;33m]\u001b[0m\u001b[1;33m\u001b[0m\u001b[1;33m\u001b[0m\u001b[0m\n\u001b[0;32m    810\u001b[0m \u001b[1;33m\u001b[0m\u001b[0m\n\u001b[1;32m--> 811\u001b[1;33m         \u001b[0mself\u001b[0m\u001b[1;33m.\u001b[0m\u001b[0m_engine\u001b[0m \u001b[1;33m=\u001b[0m \u001b[0mself\u001b[0m\u001b[1;33m.\u001b[0m\u001b[0m_make_engine\u001b[0m\u001b[1;33m(\u001b[0m\u001b[0mself\u001b[0m\u001b[1;33m.\u001b[0m\u001b[0mengine\u001b[0m\u001b[1;33m)\u001b[0m\u001b[1;33m\u001b[0m\u001b[1;33m\u001b[0m\u001b[0m\n\u001b[0m\u001b[0;32m    812\u001b[0m \u001b[1;33m\u001b[0m\u001b[0m\n\u001b[0;32m    813\u001b[0m     \u001b[1;32mdef\u001b[0m \u001b[0mclose\u001b[0m\u001b[1;33m(\u001b[0m\u001b[0mself\u001b[0m\u001b[1;33m)\u001b[0m\u001b[1;33m:\u001b[0m\u001b[1;33m\u001b[0m\u001b[1;33m\u001b[0m\u001b[0m\n",
      "\u001b[1;32m~\\anaconda3\\lib\\site-packages\\pandas\\io\\parsers\\readers.py\u001b[0m in \u001b[0;36m_make_engine\u001b[1;34m(self, engine)\u001b[0m\n\u001b[0;32m   1038\u001b[0m             )\n\u001b[0;32m   1039\u001b[0m         \u001b[1;31m# error: Too many arguments for \"ParserBase\"\u001b[0m\u001b[1;33m\u001b[0m\u001b[1;33m\u001b[0m\u001b[1;33m\u001b[0m\u001b[0m\n\u001b[1;32m-> 1040\u001b[1;33m         \u001b[1;32mreturn\u001b[0m \u001b[0mmapping\u001b[0m\u001b[1;33m[\u001b[0m\u001b[0mengine\u001b[0m\u001b[1;33m]\u001b[0m\u001b[1;33m(\u001b[0m\u001b[0mself\u001b[0m\u001b[1;33m.\u001b[0m\u001b[0mf\u001b[0m\u001b[1;33m,\u001b[0m \u001b[1;33m**\u001b[0m\u001b[0mself\u001b[0m\u001b[1;33m.\u001b[0m\u001b[0moptions\u001b[0m\u001b[1;33m)\u001b[0m  \u001b[1;31m# type: ignore[call-arg]\u001b[0m\u001b[1;33m\u001b[0m\u001b[1;33m\u001b[0m\u001b[0m\n\u001b[0m\u001b[0;32m   1041\u001b[0m \u001b[1;33m\u001b[0m\u001b[0m\n\u001b[0;32m   1042\u001b[0m     \u001b[1;32mdef\u001b[0m \u001b[0m_failover_to_python\u001b[0m\u001b[1;33m(\u001b[0m\u001b[0mself\u001b[0m\u001b[1;33m)\u001b[0m\u001b[1;33m:\u001b[0m\u001b[1;33m\u001b[0m\u001b[1;33m\u001b[0m\u001b[0m\n",
      "\u001b[1;32m~\\anaconda3\\lib\\site-packages\\pandas\\io\\parsers\\c_parser_wrapper.py\u001b[0m in \u001b[0;36m__init__\u001b[1;34m(self, src, **kwds)\u001b[0m\n\u001b[0;32m     49\u001b[0m \u001b[1;33m\u001b[0m\u001b[0m\n\u001b[0;32m     50\u001b[0m         \u001b[1;31m# open handles\u001b[0m\u001b[1;33m\u001b[0m\u001b[1;33m\u001b[0m\u001b[1;33m\u001b[0m\u001b[0m\n\u001b[1;32m---> 51\u001b[1;33m         \u001b[0mself\u001b[0m\u001b[1;33m.\u001b[0m\u001b[0m_open_handles\u001b[0m\u001b[1;33m(\u001b[0m\u001b[0msrc\u001b[0m\u001b[1;33m,\u001b[0m \u001b[0mkwds\u001b[0m\u001b[1;33m)\u001b[0m\u001b[1;33m\u001b[0m\u001b[1;33m\u001b[0m\u001b[0m\n\u001b[0m\u001b[0;32m     52\u001b[0m         \u001b[1;32massert\u001b[0m \u001b[0mself\u001b[0m\u001b[1;33m.\u001b[0m\u001b[0mhandles\u001b[0m \u001b[1;32mis\u001b[0m \u001b[1;32mnot\u001b[0m \u001b[1;32mNone\u001b[0m\u001b[1;33m\u001b[0m\u001b[1;33m\u001b[0m\u001b[0m\n\u001b[0;32m     53\u001b[0m \u001b[1;33m\u001b[0m\u001b[0m\n",
      "\u001b[1;32m~\\anaconda3\\lib\\site-packages\\pandas\\io\\parsers\\base_parser.py\u001b[0m in \u001b[0;36m_open_handles\u001b[1;34m(self, src, kwds)\u001b[0m\n\u001b[0;32m    220\u001b[0m         \u001b[0mLet\u001b[0m \u001b[0mthe\u001b[0m \u001b[0mreaders\u001b[0m \u001b[0mopen\u001b[0m \u001b[0mIOHandles\u001b[0m \u001b[0mafter\u001b[0m \u001b[0mthey\u001b[0m \u001b[0mare\u001b[0m \u001b[0mdone\u001b[0m \u001b[1;32mwith\u001b[0m \u001b[0mtheir\u001b[0m \u001b[0mpotential\u001b[0m \u001b[0mraises\u001b[0m\u001b[1;33m.\u001b[0m\u001b[1;33m\u001b[0m\u001b[1;33m\u001b[0m\u001b[0m\n\u001b[0;32m    221\u001b[0m         \"\"\"\n\u001b[1;32m--> 222\u001b[1;33m         self.handles = get_handle(\n\u001b[0m\u001b[0;32m    223\u001b[0m             \u001b[0msrc\u001b[0m\u001b[1;33m,\u001b[0m\u001b[1;33m\u001b[0m\u001b[1;33m\u001b[0m\u001b[0m\n\u001b[0;32m    224\u001b[0m             \u001b[1;34m\"r\"\u001b[0m\u001b[1;33m,\u001b[0m\u001b[1;33m\u001b[0m\u001b[1;33m\u001b[0m\u001b[0m\n",
      "\u001b[1;32m~\\anaconda3\\lib\\site-packages\\pandas\\io\\common.py\u001b[0m in \u001b[0;36mget_handle\u001b[1;34m(path_or_buf, mode, encoding, compression, memory_map, is_text, errors, storage_options)\u001b[0m\n\u001b[0;32m    700\u001b[0m         \u001b[1;32mif\u001b[0m \u001b[0mioargs\u001b[0m\u001b[1;33m.\u001b[0m\u001b[0mencoding\u001b[0m \u001b[1;32mand\u001b[0m \u001b[1;34m\"b\"\u001b[0m \u001b[1;32mnot\u001b[0m \u001b[1;32min\u001b[0m \u001b[0mioargs\u001b[0m\u001b[1;33m.\u001b[0m\u001b[0mmode\u001b[0m\u001b[1;33m:\u001b[0m\u001b[1;33m\u001b[0m\u001b[1;33m\u001b[0m\u001b[0m\n\u001b[0;32m    701\u001b[0m             \u001b[1;31m# Encoding\u001b[0m\u001b[1;33m\u001b[0m\u001b[1;33m\u001b[0m\u001b[1;33m\u001b[0m\u001b[0m\n\u001b[1;32m--> 702\u001b[1;33m             handle = open(\n\u001b[0m\u001b[0;32m    703\u001b[0m                 \u001b[0mhandle\u001b[0m\u001b[1;33m,\u001b[0m\u001b[1;33m\u001b[0m\u001b[1;33m\u001b[0m\u001b[0m\n\u001b[0;32m    704\u001b[0m                 \u001b[0mioargs\u001b[0m\u001b[1;33m.\u001b[0m\u001b[0mmode\u001b[0m\u001b[1;33m,\u001b[0m\u001b[1;33m\u001b[0m\u001b[1;33m\u001b[0m\u001b[0m\n",
      "\u001b[1;31mFileNotFoundError\u001b[0m: [Errno 2] No such file or directory: 'marketing_customer_analysis.csv'"
     ]
    }
   ],
   "source": [
    "df_d = pd.read_csv('marketing_customer_analysis.csv')\n",
    "# Showing dataframe shape\n",
    "\n",
    "df_d.shape"
   ]
  },
  {
   "cell_type": "code",
   "execution_count": null,
   "id": "a277b833",
   "metadata": {},
   "outputs": [],
   "source": [
    "df_d.head()"
   ]
  },
  {
   "cell_type": "markdown",
   "id": "4d2073e2",
   "metadata": {},
   "source": [
    "# 03 - Cleaning/Wrangling/EDA\n",
    "* <a href=\"#Jorge-Castro-DAPT-BER\">Back to Top</a>\n",
    "* <a href=\"#.\">Go down</a>"
   ]
  },
  {
   "cell_type": "markdown",
   "id": "9cb8df90",
   "metadata": {},
   "source": [
    "##### Change headers names"
   ]
  },
  {
   "cell_type": "code",
   "execution_count": null,
   "id": "5545e5d5",
   "metadata": {},
   "outputs": [],
   "source": [
    "# Lower caseing headers\n",
    "df_d.columns = df_d.columns.str.lower()"
   ]
  },
  {
   "cell_type": "code",
   "execution_count": null,
   "id": "1d68301a",
   "metadata": {},
   "outputs": [],
   "source": [
    "# Replacing spaces by underscores\n",
    "df_d.columns = df_d.columns.str.replace(' ', '_')"
   ]
  },
  {
   "cell_type": "code",
   "execution_count": null,
   "id": "f596e50e",
   "metadata": {},
   "outputs": [],
   "source": [
    "# Dropping the column 'unnamed:_0' as it is a duplicate from the index\n",
    "df_d = df_d.drop('unnamed:_0', 1)"
   ]
  },
  {
   "cell_type": "code",
   "execution_count": null,
   "id": "b6838ca4",
   "metadata": {},
   "outputs": [],
   "source": []
  },
  {
   "cell_type": "markdown",
   "id": "ef88ea6f",
   "metadata": {},
   "source": [
    "##### Deal with NaN values\n",
    "* <a href=\"#Jorge-Castro-DAPT-BER\">Back to Top</a>\n",
    "* <a href=\"#.\">Go down</a>"
   ]
  },
  {
   "cell_type": "code",
   "execution_count": null,
   "id": "f9348252",
   "metadata": {},
   "outputs": [],
   "source": [
    "# Dealing with null values:\n",
    "\n",
    "\n",
    "# We have to create a paralelle DataFrame but only indicating the null % of each series,\n",
    "# then we use it as a guide to drop the series that have more than n% of nulls\n",
    "# we save on a variable the creation of the dataframe with our calcule of null %\n",
    "\n",
    "nulls_df = pd.DataFrame(round(df_d.isna().sum()/len(df_d)*100,2))\n",
    "\n",
    "# We need to rename the headers so we can perform the column drop based on null %, \n",
    "# but first we need to reset the index as this 2 dataframes have \n",
    "# different lenghts (amount of rows)\n",
    "\n",
    "# Reseting index\n",
    "nulls_df = nulls_df.reset_index()\n",
    "\n",
    "# Renaming headers of our new mini DataFrame to read null %\n",
    "nulls_df.columns = ['header_name', '%_nulls']\n",
    "\n",
    "\n",
    "# saving our calculations for the drop of headers on a variable based on % nulls\n",
    "columns_drop = nulls_df[nulls_df['%_nulls'] > 50 ]['header_name']\n",
    "\n",
    "# Dropping columns using the variable I just saved columns_drop\n",
    "df1 = df_d.drop(columns_drop, axis = 1)\n",
    "\n",
    "# Reseting the index after the drop of values\n",
    "df1.reset_index()\n",
    "\n",
    "# to address the rest of the null values, \n",
    "# which have a low % of nulls for each series, I will use the \n",
    "# function dropna which has a parametre called 'how' and the arguments are any or all\n",
    "# ANY means if there is at least 1 null in ANY row, the row will be droped\n",
    "\n",
    "# Creating a DataFrame to visualize the remaining nulls\n",
    "nulls_percent_2 = pd.DataFrame(round(df1.isna().sum()/len(df1)*100,2))\n",
    "\n",
    "\n",
    "\n"
   ]
  },
  {
   "cell_type": "code",
   "execution_count": null,
   "id": "aac41420",
   "metadata": {},
   "outputs": [],
   "source": [
    "# Lets have a look at the remaining % of nulls\n",
    "\n",
    "nulls_percent_2"
   ]
  },
  {
   "cell_type": "code",
   "execution_count": null,
   "id": "50fec823",
   "metadata": {},
   "outputs": [],
   "source": [
    "# Applying function \"dropna\" which has a parametre called 'how' and the \n",
    "# arguments are \"any\" or \"all\"\n",
    "# \"any\" means if there is at least 1 null in ANY row, the row will be droped\n",
    "\n",
    "df = df1.dropna(how='any')"
   ]
  },
  {
   "cell_type": "code",
   "execution_count": null,
   "id": "843e4000",
   "metadata": {},
   "outputs": [],
   "source": [
    "# Verifying if all the nulls have been erradicated \n",
    "nulls_percent_3 = pd.DataFrame(round(df.isna().sum()/len(df)*100,2))"
   ]
  },
  {
   "cell_type": "code",
   "execution_count": null,
   "id": "11efb582",
   "metadata": {},
   "outputs": [],
   "source": [
    "nulls_percent_3"
   ]
  },
  {
   "cell_type": "code",
   "execution_count": null,
   "id": "5596fb74",
   "metadata": {},
   "outputs": [],
   "source": [
    "df.head()"
   ]
  },
  {
   "cell_type": "code",
   "execution_count": null,
   "id": "160d3504",
   "metadata": {},
   "outputs": [],
   "source": [
    "# Rounding decimals in columns: 2 and 21\n",
    "df.iloc[:, [2,21]]\n"
   ]
  },
  {
   "cell_type": "code",
   "execution_count": null,
   "id": "7cb9ae66",
   "metadata": {},
   "outputs": [],
   "source": [
    "# Rounding decimals: \n",
    "df = pd.DataFrame(df.round({'customer_lifetime_value': 2, 'total_claim_amount': 2}))"
   ]
  },
  {
   "cell_type": "code",
   "execution_count": null,
   "id": "7d7bd7c9",
   "metadata": {},
   "outputs": [],
   "source": [
    "# Creating a new DataFrame with columns that are important to keep\n",
    "df_0 = pd.DataFrame(df.iloc[:, [1, 2, 5, 7, 8, 9, 11, 16, 21]])"
   ]
  },
  {
   "cell_type": "code",
   "execution_count": null,
   "id": "5336f67c",
   "metadata": {},
   "outputs": [],
   "source": [
    "df_0.head()"
   ]
  },
  {
   "cell_type": "markdown",
   "id": "600771e1",
   "metadata": {},
   "source": [
    "##### Categorical Features\n",
    "* <a href=\"#Jorge-Castro-DAPT-BER\">Back to Top</a>\n",
    "* <a href=\"#.\">Go down</a>"
   ]
  },
  {
   "cell_type": "code",
   "execution_count": null,
   "id": "c74d52cc",
   "metadata": {},
   "outputs": [],
   "source": [
    "df_cat = pd.DataFrame(df_0.select_dtypes(include='object'))"
   ]
  },
  {
   "cell_type": "code",
   "execution_count": null,
   "id": "010e5f42",
   "metadata": {},
   "outputs": [],
   "source": [
    "df_cat"
   ]
  },
  {
   "cell_type": "markdown",
   "id": "3648658a",
   "metadata": {},
   "source": [
    "##### Numerical Features\n",
    "* <a href=\"#Jorge-Castro-DAPT-BER\">Back to Top</a>\n",
    "* <a href=\"#.\">Go down</a>"
   ]
  },
  {
   "cell_type": "code",
   "execution_count": null,
   "id": "f2482b22",
   "metadata": {},
   "outputs": [],
   "source": [
    "# # To see only the colums with numeric datatypes we use the get_numeric_data method."
   ]
  },
  {
   "cell_type": "code",
   "execution_count": null,
   "id": "002ce9f7",
   "metadata": {},
   "outputs": [],
   "source": [
    "df_num = pd.DataFrame(df_0._get_numeric_data())"
   ]
  },
  {
   "cell_type": "code",
   "execution_count": null,
   "id": "58b52aa6",
   "metadata": {},
   "outputs": [],
   "source": [
    "df_num"
   ]
  },
  {
   "cell_type": "code",
   "execution_count": null,
   "id": "c8e6d48d",
   "metadata": {},
   "outputs": [],
   "source": []
  },
  {
   "cell_type": "markdown",
   "id": "3688704e",
   "metadata": {},
   "source": [
    "##### Exploration\n",
    "* <a href=\"#Jorge-Castro-DAPT-BER\">Back to Top</a>\n",
    "* <a href=\"#.\">Go down</a>"
   ]
  },
  {
   "cell_type": "code",
   "execution_count": null,
   "id": "41c2a2f1",
   "metadata": {},
   "outputs": [],
   "source": []
  },
  {
   "cell_type": "code",
   "execution_count": null,
   "id": "a2bfd612",
   "metadata": {},
   "outputs": [],
   "source": []
  },
  {
   "cell_type": "markdown",
   "id": "bc4b347d",
   "metadata": {},
   "source": [
    "# 04 - Processing Data\n",
    "* <a href=\"#Jorge-Castro-DAPT-BER\">Back to Top</a>\n",
    "* <a href=\"#.\">Go down</a>"
   ]
  },
  {
   "cell_type": "markdown",
   "id": "215b3b47",
   "metadata": {},
   "source": [
    "##### Dealing with outliers\n",
    "* <a href=\"#Jorge-Castro-DAPT-BER\">Back to Top</a>\n",
    "* <a href=\"#.\">Go down</a>"
   ]
  },
  {
   "cell_type": "code",
   "execution_count": null,
   "id": "b72ce237",
   "metadata": {},
   "outputs": [],
   "source": []
  },
  {
   "cell_type": "code",
   "execution_count": null,
   "id": "788a0bc9",
   "metadata": {},
   "outputs": [],
   "source": []
  },
  {
   "cell_type": "markdown",
   "id": "692480b9",
   "metadata": {},
   "source": [
    "##### Normalization\n",
    "* <a href=\"#Jorge-Castro-DAPT-BER\">Back to Top</a>\n",
    "* <a href=\"#.\">Go down</a>\n",
    "\n"
   ]
  },
  {
   "cell_type": "code",
   "execution_count": null,
   "id": "8a6d3072",
   "metadata": {},
   "outputs": [],
   "source": []
  },
  {
   "cell_type": "code",
   "execution_count": null,
   "id": "de273eac",
   "metadata": {},
   "outputs": [],
   "source": []
  },
  {
   "cell_type": "markdown",
   "id": "724e7617",
   "metadata": {},
   "source": [
    "##### Encoding Categorical Data\n",
    "* <a href=\"#Jorge-Castro-DAPT-BER\">Back to Top</a>\n",
    "* <a href=\"#.\">Go down</a>\n"
   ]
  },
  {
   "cell_type": "code",
   "execution_count": null,
   "id": "4cbf5372",
   "metadata": {},
   "outputs": [],
   "source": []
  },
  {
   "cell_type": "code",
   "execution_count": null,
   "id": "ff870d1c",
   "metadata": {},
   "outputs": [],
   "source": []
  },
  {
   "cell_type": "markdown",
   "id": "98f583bd",
   "metadata": {},
   "source": [
    "##### Splitting into train set and test set\n",
    "* <a href=\"#Jorge-Castro-DAPT-BER\">Back to Top</a>\n",
    "* <a href=\"#.\">Go down</a>\n"
   ]
  },
  {
   "cell_type": "code",
   "execution_count": null,
   "id": "8f775f22",
   "metadata": {},
   "outputs": [],
   "source": []
  },
  {
   "cell_type": "code",
   "execution_count": null,
   "id": "185f025b",
   "metadata": {},
   "outputs": [],
   "source": []
  },
  {
   "cell_type": "markdown",
   "id": "9522338b",
   "metadata": {},
   "source": [
    "# 05 - Modeling\n",
    "##### Apply model\n",
    "* <a href=\"#Jorge-Castro-DAPT-BER\">Back to Top</a>\n",
    "* <a href=\"#.\">Go down</a>"
   ]
  },
  {
   "cell_type": "code",
   "execution_count": null,
   "id": "348d647f",
   "metadata": {},
   "outputs": [],
   "source": []
  },
  {
   "cell_type": "code",
   "execution_count": null,
   "id": "382db9bd",
   "metadata": {},
   "outputs": [],
   "source": []
  },
  {
   "cell_type": "markdown",
   "id": "eb661dc5",
   "metadata": {},
   "source": [
    "# 06 - Model Validation\n",
    "* <a href=\"#Jorge-Castro-DAPT-BER\">Back to Top</a>\n",
    "* <a href=\"#.\">Go down</a>"
   ]
  },
  {
   "cell_type": "markdown",
   "id": "bd1229fd",
   "metadata": {},
   "source": [
    "##### R2"
   ]
  },
  {
   "cell_type": "code",
   "execution_count": null,
   "id": "ce6b7b49",
   "metadata": {},
   "outputs": [],
   "source": []
  },
  {
   "cell_type": "code",
   "execution_count": null,
   "id": "270883fb",
   "metadata": {},
   "outputs": [],
   "source": []
  },
  {
   "cell_type": "markdown",
   "id": "c64fe170",
   "metadata": {},
   "source": [
    "##### MSE"
   ]
  },
  {
   "cell_type": "code",
   "execution_count": null,
   "id": "ca993810",
   "metadata": {},
   "outputs": [],
   "source": []
  },
  {
   "cell_type": "code",
   "execution_count": null,
   "id": "48557644",
   "metadata": {},
   "outputs": [],
   "source": []
  },
  {
   "cell_type": "markdown",
   "id": "d50658c1",
   "metadata": {},
   "source": [
    "##### RMSE"
   ]
  },
  {
   "cell_type": "code",
   "execution_count": null,
   "id": "0da1a6e0",
   "metadata": {},
   "outputs": [],
   "source": []
  },
  {
   "cell_type": "code",
   "execution_count": null,
   "id": "8a701e82",
   "metadata": {},
   "outputs": [],
   "source": []
  },
  {
   "cell_type": "markdown",
   "id": "285b6993",
   "metadata": {},
   "source": [
    "##### MAE"
   ]
  },
  {
   "cell_type": "code",
   "execution_count": null,
   "id": "24ce7cb4",
   "metadata": {},
   "outputs": [],
   "source": []
  },
  {
   "cell_type": "code",
   "execution_count": null,
   "id": "8509cfc6",
   "metadata": {},
   "outputs": [],
   "source": []
  },
  {
   "cell_type": "markdown",
   "id": "84161303",
   "metadata": {},
   "source": [
    "# 07 - Reporting\n",
    "##### Present results\n",
    "* <a href=\"#Jorge-Castro-DAPT-BER\">Back to Top</a>\n",
    "* <a href=\"#.\">Go down</a>"
   ]
  },
  {
   "cell_type": "code",
   "execution_count": null,
   "id": "a6a8ca86",
   "metadata": {},
   "outputs": [],
   "source": []
  },
  {
   "cell_type": "code",
   "execution_count": null,
   "id": "1275a1fa",
   "metadata": {},
   "outputs": [],
   "source": []
  },
  {
   "cell_type": "code",
   "execution_count": null,
   "id": "b9123912",
   "metadata": {},
   "outputs": [],
   "source": []
  },
  {
   "cell_type": "markdown",
   "id": "402b7d2c",
   "metadata": {},
   "source": [
    "\n",
    "* <a href=\"#Jorge-Castro-DAPT-BER\">Back to Top</a>\n",
    "* <a href=\"#.\">Go down</a>"
   ]
  },
  {
   "cell_type": "markdown",
   "id": "43e63fef",
   "metadata": {},
   "source": [
    "<div class=\"alert alert-block alert-info\">\n",
    "<b>Tip:</b> Use blue boxes (alert-info) for tips and notes. \n",
    "If it’s a note, you don’t have to include the word “Note”.\n",
    "</div>"
   ]
  },
  {
   "cell_type": "markdown",
   "id": "5e47c0f4",
   "metadata": {},
   "source": [
    "<div class=\"alert alert-block alert-warning\">\n",
    "<b>Example:</b> Use yellow boxes for examples that are not \n",
    "inside code cells, or use for mathematical formulas if needed.\n",
    "</div>"
   ]
  },
  {
   "cell_type": "markdown",
   "id": "c0beb988",
   "metadata": {},
   "source": [
    "<div class=\"alert alert-block alert-success\">\n",
    "<b>Up to you:</b> Use green boxes sparingly, and only for some specific \n",
    "purpose that the other boxes can't cover. For example, if you have a lot \n",
    "of related content to link to, maybe you decide to use green boxes for \n",
    "related links from each section of a notebook.\n",
    "</div>"
   ]
  },
  {
   "cell_type": "markdown",
   "id": "0faea5a7",
   "metadata": {},
   "source": [
    "<div class=\"alert alert-block alert-danger\">\n",
    "<b>Just don't:</b> In general, avoid the red boxes. These should only be\n",
    "used for actions that might cause data loss or another major issue.\n",
    "</div>"
   ]
  },
  {
   "cell_type": "markdown",
   "id": "575ca8de",
   "metadata": {},
   "source": [
    "* <a href=\"#Jorge-Castro-DAPT-BER\">Back to Top</a>\n",
    "* <a href=\"#.\">Go down</a>\n",
    "\n",
    "##### .\n",
    "##### Go bottom"
   ]
  },
  {
   "cell_type": "code",
   "execution_count": null,
   "id": "7c4af262",
   "metadata": {},
   "outputs": [],
   "source": []
  }
 ],
 "metadata": {
  "kernelspec": {
   "display_name": "Python 3 (ipykernel)",
   "language": "python",
   "name": "python3"
  },
  "language_info": {
   "codemirror_mode": {
    "name": "ipython",
    "version": 3
   },
   "file_extension": ".py",
   "mimetype": "text/x-python",
   "name": "python",
   "nbconvert_exporter": "python",
   "pygments_lexer": "ipython3",
   "version": "3.8.12"
  },
  "toc": {
   "base_numbering": 1,
   "nav_menu": {},
   "number_sections": false,
   "sideBar": true,
   "skip_h1_title": false,
   "title_cell": "TOC",
   "title_sidebar": "Contents",
   "toc_cell": false,
   "toc_position": {
    "height": "calc(100% - 180px)",
    "left": "10px",
    "top": "150px",
    "width": "234.143px"
   },
   "toc_section_display": true,
   "toc_window_display": false
  }
 },
 "nbformat": 4,
 "nbformat_minor": 5
}
